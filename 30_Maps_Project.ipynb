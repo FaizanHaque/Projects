{
  "nbformat": 4,
  "nbformat_minor": 0,
  "metadata": {
    "colab": {
      "provenance": []
    },
    "kernelspec": {
      "name": "python3",
      "display_name": "Python 3"
    },
    "language_info": {
      "name": "python"
    }
  },
  "cells": [
    {
      "cell_type": "markdown",
      "source": [
        "https://30daymapchallenge.com/"
      ],
      "metadata": {
        "id": "mBmFph43BJTR"
      }
    },
    {
      "cell_type": "markdown",
      "source": [
        "# Setup"
      ],
      "metadata": {
        "id": "wojVefr6BRSg"
      }
    },
    {
      "cell_type": "markdown",
      "source": [
        "## Install & Import Libraries"
      ],
      "metadata": {
        "id": "yecwhDJF5b1q"
      }
    },
    {
      "cell_type": "code",
      "source": [
        "!pip install --quiet cmasher pygwalker osmnx plotly langchain psycopg2-binary sqlalchemy geoalchemy2  langchain_community census us"
      ],
      "metadata": {
        "id": "gnjPIoHU9dJq",
        "colab": {
          "base_uri": "https://localhost:8080/"
        },
        "outputId": "5fcafd4d-d296-408e-e751-2f6e5596c78c"
      },
      "execution_count": null,
      "outputs": [
        {
          "output_type": "stream",
          "name": "stdout",
          "text": [
            "\u001b[31mERROR: Could not find a version that satisfies the requirement mycreds (from versions: none)\u001b[0m\u001b[31m\n",
            "\u001b[0m\u001b[31mERROR: No matching distribution found for mycreds\u001b[0m\u001b[31m\n",
            "\u001b[0m"
          ]
        }
      ]
    },
    {
      "cell_type": "code",
      "source": [
        "#core DS libraries\n",
        "import pandas as pd\n",
        "import numpy as np\n",
        "import geopandas as gpd\n",
        "\n",
        "#Visualization\n",
        "import matplotlib.pyplot as plt\n",
        "import seaborn as sns\n",
        "import pygwalker as pyg #quick explatory data visualization\n",
        "import plotly.express as px\n",
        "import matplotlib.colors as mcolors\n",
        "\n",
        "\n",
        "#APIs\n",
        "import osmnx as ox #Open Street Map API\n",
        "\n",
        "from census import Census\n",
        "from us import states\n",
        "import requests\n",
        "\n",
        "#System Libraries\n",
        "import os\n",
        "import re\n",
        "import warnings\n",
        "import json\n",
        "import re\n",
        "\n",
        "\n",
        "\n",
        "#Database Libraries\n",
        "import psycopg2\n",
        "from sqlalchemy import create_engine\n",
        "\n",
        "#RAG/LLM libraries\n",
        "from langchain import PromptTemplate, SQLDatabase\n",
        "from langchain.chat_models import ChatOpenAI\n",
        "from langchain.chains import RetrievalQA\n",
        "\n",
        "\n",
        "#Data Access\n",
        "from google.colab import drive\n",
        "from google.colab import auth\n"
      ],
      "metadata": {
        "id": "dxZn2yGl5gNC"
      },
      "execution_count": null,
      "outputs": []
    },
    {
      "cell_type": "markdown",
      "source": [
        "## Definitions"
      ],
      "metadata": {
        "id": "ArIBlqvyCPkr"
      }
    },
    {
      "cell_type": "code",
      "source": [
        "\n",
        "\n",
        "c_key = \"3ba7230b85a9584837a28f64fb48633131da6bbe\"\n",
        "c = Census(c_key)"
      ],
      "metadata": {
        "id": "xJcbHvKuCRVX"
      },
      "execution_count": null,
      "outputs": []
    },
    {
      "cell_type": "code",
      "source": [
        "#Map Projection for California Zone 6\n",
        "#https://epsg.io/26946\n",
        "SD_crs = 'EPSG:26946'\n",
        "# common_crs = SD_crs\n",
        "common_crs = \"EPSG:4326\""
      ],
      "metadata": {
        "id": "GReysXDNDV4j"
      },
      "execution_count": null,
      "outputs": []
    },
    {
      "cell_type": "markdown",
      "source": [
        "## Data Access"
      ],
      "metadata": {
        "id": "9JjXWEIz5gd5"
      }
    },
    {
      "cell_type": "code",
      "source": [
        "#Paths\n",
        "\n",
        "mount_path = '/content/drive/'\n",
        "files_path = '/content/drive/MyDrive/DSE200_Data'"
      ],
      "metadata": {
        "id": "ovRlHnH65on9"
      },
      "execution_count": null,
      "outputs": []
    },
    {
      "cell_type": "code",
      "source": [
        "#Mount the drive\n",
        "\n",
        "drive.mount(mount_path)"
      ],
      "metadata": {
        "colab": {
          "base_uri": "https://localhost:8080/"
        },
        "id": "X0Zus5ko5u7z",
        "outputId": "8549c4d2-781b-4583-d487-4b567a9c554a"
      },
      "execution_count": null,
      "outputs": [
        {
          "output_type": "stream",
          "name": "stdout",
          "text": [
            "Drive already mounted at /content/drive/; to attempt to forcibly remount, call drive.mount(\"/content/drive/\", force_remount=True).\n"
          ]
        }
      ]
    },
    {
      "cell_type": "code",
      "source": [
        "#Roads Dataset\n",
        "\n",
        "\n",
        "road_featnames_zip = 'tl_2018_06073_featnames.zip'\n",
        "road_featnames_path = os.path.join(files_path, road_featnames_zip)\n",
        "road_featnames = gpd.read_file(road_featnames_path)\n",
        "\n",
        "roads_zip = 'tl_2018_06073_roads.zip'\n",
        "roads_path = os.path.join(files_path, roads_zip)\n",
        "roads = gpd.read_file(roads_path)\n",
        "\n",
        "\n"
      ],
      "metadata": {
        "id": "gRvRSI7t6UU6"
      },
      "execution_count": null,
      "outputs": []
    },
    {
      "cell_type": "code",
      "source": [
        "#San Diego Communities/Neighborhoods Data Set\n",
        "\n",
        "communities_csv = 'sd_community_boundaries.csv'\n",
        "communities_path = os.path.join(files_path, communities_csv)\n",
        "communities = gpd.read_file(communities_path)\n",
        "\n",
        "\n",
        "\n",
        "communities_gdf = gpd.GeoDataFrame(\n",
        "    geometry=gpd.GeoSeries.from_wkt(communities['geometry'], crs=common_crs), data=communities\n",
        ")\n"
      ],
      "metadata": {
        "id": "exYZZ19k6bFe"
      },
      "execution_count": null,
      "outputs": []
    },
    {
      "cell_type": "code",
      "source": [
        "#Businesses Dataset\n",
        "#Use the openstreetmaps API\n",
        "#'key': True pulls all rows that have a value in that column\n",
        "#Note these have a lot of columns\n",
        "\n",
        "place = 'San Diego, California'\n",
        "tags_amenity ={'amenity': True}\n",
        "tags_shop = {'shop': True}\n",
        "\n",
        "pois_amenity_gdf = ox.features_from_place(place, tags=tags_amenity)\n",
        "pois_shop_gdf = ox.features_from_place(place, tags=tags_shop)\n",
        "\n",
        "\n"
      ],
      "metadata": {
        "id": "xY1zRim16fh_"
      },
      "execution_count": null,
      "outputs": []
    },
    {
      "cell_type": "code",
      "source": [
        "#City Boundaries Dataset\n",
        "\n",
        "boundaries_zip = 'City_and_County_Boundaries.zip'\n",
        "boundaries_path = os.path.join(files_path, boundaries_zip)\n",
        "boundaries = gpd.read_file(boundaries_path)\n",
        "\n",
        "\n"
      ],
      "metadata": {
        "id": "A_x6CsR86WuL"
      },
      "execution_count": null,
      "outputs": []
    },
    {
      "cell_type": "code",
      "source": [
        "ca_census = c.acs5.state_county_tract(fields = ('NAME', 'C17002_001E', 'C17002_002E', 'C17002_003E', 'B01003_001E'),\n",
        "                                      state_fips = states.CA.fips,\n",
        "                                      county_fips = \"*\",\n",
        "                                      tract = \"*\",\n",
        "                                      year = 2020)\n",
        "\n",
        "ca_census = pd.DataFrame(ca_census)"
      ],
      "metadata": {
        "id": "LYrhZuGmC7ct"
      },
      "execution_count": null,
      "outputs": []
    },
    {
      "cell_type": "code",
      "source": [
        "ca_census.head()"
      ],
      "metadata": {
        "colab": {
          "base_uri": "https://localhost:8080/",
          "height": 206
        },
        "id": "t6_D9SCsKgMq",
        "outputId": "76f81e75-cfea-4af0-88e5-c0804171445f"
      },
      "execution_count": null,
      "outputs": [
        {
          "output_type": "execute_result",
          "data": {
            "text/plain": [
              "                                                NAME  C17002_001E  \\\n",
              "0  Census Tract 5035.02, Los Angeles County, Cali...       4324.0   \n",
              "1  Census Tract 5041.02, Los Angeles County, Cali...          7.0   \n",
              "2  Census Tract 2657, Los Angeles County, California       5166.0   \n",
              "3  Census Tract 2673, Los Angeles County, California       4656.0   \n",
              "4  Census Tract 2675.02, Los Angeles County, Cali...       3524.0   \n",
              "\n",
              "   C17002_002E  C17002_003E  B01003_001E state county   tract  \n",
              "0        171.0        286.0       4359.0    06    037  503502  \n",
              "1          0.0          0.0          7.0    06    037  504102  \n",
              "2        351.0        218.0       5181.0    06    037  265700  \n",
              "3        552.0        342.0       4751.0    06    037  267300  \n",
              "4         82.0        347.0       3524.0    06    037  267502  "
            ],
            "text/html": [
              "\n",
              "  <div id=\"df-34cf806a-6ec3-411d-aaf0-db1dcb02cd3c\" class=\"colab-df-container\">\n",
              "    <div>\n",
              "<style scoped>\n",
              "    .dataframe tbody tr th:only-of-type {\n",
              "        vertical-align: middle;\n",
              "    }\n",
              "\n",
              "    .dataframe tbody tr th {\n",
              "        vertical-align: top;\n",
              "    }\n",
              "\n",
              "    .dataframe thead th {\n",
              "        text-align: right;\n",
              "    }\n",
              "</style>\n",
              "<table border=\"1\" class=\"dataframe\">\n",
              "  <thead>\n",
              "    <tr style=\"text-align: right;\">\n",
              "      <th></th>\n",
              "      <th>NAME</th>\n",
              "      <th>C17002_001E</th>\n",
              "      <th>C17002_002E</th>\n",
              "      <th>C17002_003E</th>\n",
              "      <th>B01003_001E</th>\n",
              "      <th>state</th>\n",
              "      <th>county</th>\n",
              "      <th>tract</th>\n",
              "    </tr>\n",
              "  </thead>\n",
              "  <tbody>\n",
              "    <tr>\n",
              "      <th>0</th>\n",
              "      <td>Census Tract 5035.02, Los Angeles County, Cali...</td>\n",
              "      <td>4324.0</td>\n",
              "      <td>171.0</td>\n",
              "      <td>286.0</td>\n",
              "      <td>4359.0</td>\n",
              "      <td>06</td>\n",
              "      <td>037</td>\n",
              "      <td>503502</td>\n",
              "    </tr>\n",
              "    <tr>\n",
              "      <th>1</th>\n",
              "      <td>Census Tract 5041.02, Los Angeles County, Cali...</td>\n",
              "      <td>7.0</td>\n",
              "      <td>0.0</td>\n",
              "      <td>0.0</td>\n",
              "      <td>7.0</td>\n",
              "      <td>06</td>\n",
              "      <td>037</td>\n",
              "      <td>504102</td>\n",
              "    </tr>\n",
              "    <tr>\n",
              "      <th>2</th>\n",
              "      <td>Census Tract 2657, Los Angeles County, California</td>\n",
              "      <td>5166.0</td>\n",
              "      <td>351.0</td>\n",
              "      <td>218.0</td>\n",
              "      <td>5181.0</td>\n",
              "      <td>06</td>\n",
              "      <td>037</td>\n",
              "      <td>265700</td>\n",
              "    </tr>\n",
              "    <tr>\n",
              "      <th>3</th>\n",
              "      <td>Census Tract 2673, Los Angeles County, California</td>\n",
              "      <td>4656.0</td>\n",
              "      <td>552.0</td>\n",
              "      <td>342.0</td>\n",
              "      <td>4751.0</td>\n",
              "      <td>06</td>\n",
              "      <td>037</td>\n",
              "      <td>267300</td>\n",
              "    </tr>\n",
              "    <tr>\n",
              "      <th>4</th>\n",
              "      <td>Census Tract 2675.02, Los Angeles County, Cali...</td>\n",
              "      <td>3524.0</td>\n",
              "      <td>82.0</td>\n",
              "      <td>347.0</td>\n",
              "      <td>3524.0</td>\n",
              "      <td>06</td>\n",
              "      <td>037</td>\n",
              "      <td>267502</td>\n",
              "    </tr>\n",
              "  </tbody>\n",
              "</table>\n",
              "</div>\n",
              "    <div class=\"colab-df-buttons\">\n",
              "\n",
              "  <div class=\"colab-df-container\">\n",
              "    <button class=\"colab-df-convert\" onclick=\"convertToInteractive('df-34cf806a-6ec3-411d-aaf0-db1dcb02cd3c')\"\n",
              "            title=\"Convert this dataframe to an interactive table.\"\n",
              "            style=\"display:none;\">\n",
              "\n",
              "  <svg xmlns=\"http://www.w3.org/2000/svg\" height=\"24px\" viewBox=\"0 -960 960 960\">\n",
              "    <path d=\"M120-120v-720h720v720H120Zm60-500h600v-160H180v160Zm220 220h160v-160H400v160Zm0 220h160v-160H400v160ZM180-400h160v-160H180v160Zm440 0h160v-160H620v160ZM180-180h160v-160H180v160Zm440 0h160v-160H620v160Z\"/>\n",
              "  </svg>\n",
              "    </button>\n",
              "\n",
              "  <style>\n",
              "    .colab-df-container {\n",
              "      display:flex;\n",
              "      gap: 12px;\n",
              "    }\n",
              "\n",
              "    .colab-df-convert {\n",
              "      background-color: #E8F0FE;\n",
              "      border: none;\n",
              "      border-radius: 50%;\n",
              "      cursor: pointer;\n",
              "      display: none;\n",
              "      fill: #1967D2;\n",
              "      height: 32px;\n",
              "      padding: 0 0 0 0;\n",
              "      width: 32px;\n",
              "    }\n",
              "\n",
              "    .colab-df-convert:hover {\n",
              "      background-color: #E2EBFA;\n",
              "      box-shadow: 0px 1px 2px rgba(60, 64, 67, 0.3), 0px 1px 3px 1px rgba(60, 64, 67, 0.15);\n",
              "      fill: #174EA6;\n",
              "    }\n",
              "\n",
              "    .colab-df-buttons div {\n",
              "      margin-bottom: 4px;\n",
              "    }\n",
              "\n",
              "    [theme=dark] .colab-df-convert {\n",
              "      background-color: #3B4455;\n",
              "      fill: #D2E3FC;\n",
              "    }\n",
              "\n",
              "    [theme=dark] .colab-df-convert:hover {\n",
              "      background-color: #434B5C;\n",
              "      box-shadow: 0px 1px 3px 1px rgba(0, 0, 0, 0.15);\n",
              "      filter: drop-shadow(0px 1px 2px rgba(0, 0, 0, 0.3));\n",
              "      fill: #FFFFFF;\n",
              "    }\n",
              "  </style>\n",
              "\n",
              "    <script>\n",
              "      const buttonEl =\n",
              "        document.querySelector('#df-34cf806a-6ec3-411d-aaf0-db1dcb02cd3c button.colab-df-convert');\n",
              "      buttonEl.style.display =\n",
              "        google.colab.kernel.accessAllowed ? 'block' : 'none';\n",
              "\n",
              "      async function convertToInteractive(key) {\n",
              "        const element = document.querySelector('#df-34cf806a-6ec3-411d-aaf0-db1dcb02cd3c');\n",
              "        const dataTable =\n",
              "          await google.colab.kernel.invokeFunction('convertToInteractive',\n",
              "                                                    [key], {});\n",
              "        if (!dataTable) return;\n",
              "\n",
              "        const docLinkHtml = 'Like what you see? Visit the ' +\n",
              "          '<a target=\"_blank\" href=https://colab.research.google.com/notebooks/data_table.ipynb>data table notebook</a>'\n",
              "          + ' to learn more about interactive tables.';\n",
              "        element.innerHTML = '';\n",
              "        dataTable['output_type'] = 'display_data';\n",
              "        await google.colab.output.renderOutput(dataTable, element);\n",
              "        const docLink = document.createElement('div');\n",
              "        docLink.innerHTML = docLinkHtml;\n",
              "        element.appendChild(docLink);\n",
              "      }\n",
              "    </script>\n",
              "  </div>\n",
              "\n",
              "\n",
              "<div id=\"df-4a06781f-ee17-4005-8831-8f6c8b205284\">\n",
              "  <button class=\"colab-df-quickchart\" onclick=\"quickchart('df-4a06781f-ee17-4005-8831-8f6c8b205284')\"\n",
              "            title=\"Suggest charts\"\n",
              "            style=\"display:none;\">\n",
              "\n",
              "<svg xmlns=\"http://www.w3.org/2000/svg\" height=\"24px\"viewBox=\"0 0 24 24\"\n",
              "     width=\"24px\">\n",
              "    <g>\n",
              "        <path d=\"M19 3H5c-1.1 0-2 .9-2 2v14c0 1.1.9 2 2 2h14c1.1 0 2-.9 2-2V5c0-1.1-.9-2-2-2zM9 17H7v-7h2v7zm4 0h-2V7h2v10zm4 0h-2v-4h2v4z\"/>\n",
              "    </g>\n",
              "</svg>\n",
              "  </button>\n",
              "\n",
              "<style>\n",
              "  .colab-df-quickchart {\n",
              "      --bg-color: #E8F0FE;\n",
              "      --fill-color: #1967D2;\n",
              "      --hover-bg-color: #E2EBFA;\n",
              "      --hover-fill-color: #174EA6;\n",
              "      --disabled-fill-color: #AAA;\n",
              "      --disabled-bg-color: #DDD;\n",
              "  }\n",
              "\n",
              "  [theme=dark] .colab-df-quickchart {\n",
              "      --bg-color: #3B4455;\n",
              "      --fill-color: #D2E3FC;\n",
              "      --hover-bg-color: #434B5C;\n",
              "      --hover-fill-color: #FFFFFF;\n",
              "      --disabled-bg-color: #3B4455;\n",
              "      --disabled-fill-color: #666;\n",
              "  }\n",
              "\n",
              "  .colab-df-quickchart {\n",
              "    background-color: var(--bg-color);\n",
              "    border: none;\n",
              "    border-radius: 50%;\n",
              "    cursor: pointer;\n",
              "    display: none;\n",
              "    fill: var(--fill-color);\n",
              "    height: 32px;\n",
              "    padding: 0;\n",
              "    width: 32px;\n",
              "  }\n",
              "\n",
              "  .colab-df-quickchart:hover {\n",
              "    background-color: var(--hover-bg-color);\n",
              "    box-shadow: 0 1px 2px rgba(60, 64, 67, 0.3), 0 1px 3px 1px rgba(60, 64, 67, 0.15);\n",
              "    fill: var(--button-hover-fill-color);\n",
              "  }\n",
              "\n",
              "  .colab-df-quickchart-complete:disabled,\n",
              "  .colab-df-quickchart-complete:disabled:hover {\n",
              "    background-color: var(--disabled-bg-color);\n",
              "    fill: var(--disabled-fill-color);\n",
              "    box-shadow: none;\n",
              "  }\n",
              "\n",
              "  .colab-df-spinner {\n",
              "    border: 2px solid var(--fill-color);\n",
              "    border-color: transparent;\n",
              "    border-bottom-color: var(--fill-color);\n",
              "    animation:\n",
              "      spin 1s steps(1) infinite;\n",
              "  }\n",
              "\n",
              "  @keyframes spin {\n",
              "    0% {\n",
              "      border-color: transparent;\n",
              "      border-bottom-color: var(--fill-color);\n",
              "      border-left-color: var(--fill-color);\n",
              "    }\n",
              "    20% {\n",
              "      border-color: transparent;\n",
              "      border-left-color: var(--fill-color);\n",
              "      border-top-color: var(--fill-color);\n",
              "    }\n",
              "    30% {\n",
              "      border-color: transparent;\n",
              "      border-left-color: var(--fill-color);\n",
              "      border-top-color: var(--fill-color);\n",
              "      border-right-color: var(--fill-color);\n",
              "    }\n",
              "    40% {\n",
              "      border-color: transparent;\n",
              "      border-right-color: var(--fill-color);\n",
              "      border-top-color: var(--fill-color);\n",
              "    }\n",
              "    60% {\n",
              "      border-color: transparent;\n",
              "      border-right-color: var(--fill-color);\n",
              "    }\n",
              "    80% {\n",
              "      border-color: transparent;\n",
              "      border-right-color: var(--fill-color);\n",
              "      border-bottom-color: var(--fill-color);\n",
              "    }\n",
              "    90% {\n",
              "      border-color: transparent;\n",
              "      border-bottom-color: var(--fill-color);\n",
              "    }\n",
              "  }\n",
              "</style>\n",
              "\n",
              "  <script>\n",
              "    async function quickchart(key) {\n",
              "      const quickchartButtonEl =\n",
              "        document.querySelector('#' + key + ' button');\n",
              "      quickchartButtonEl.disabled = true;  // To prevent multiple clicks.\n",
              "      quickchartButtonEl.classList.add('colab-df-spinner');\n",
              "      try {\n",
              "        const charts = await google.colab.kernel.invokeFunction(\n",
              "            'suggestCharts', [key], {});\n",
              "      } catch (error) {\n",
              "        console.error('Error during call to suggestCharts:', error);\n",
              "      }\n",
              "      quickchartButtonEl.classList.remove('colab-df-spinner');\n",
              "      quickchartButtonEl.classList.add('colab-df-quickchart-complete');\n",
              "    }\n",
              "    (() => {\n",
              "      let quickchartButtonEl =\n",
              "        document.querySelector('#df-4a06781f-ee17-4005-8831-8f6c8b205284 button');\n",
              "      quickchartButtonEl.style.display =\n",
              "        google.colab.kernel.accessAllowed ? 'block' : 'none';\n",
              "    })();\n",
              "  </script>\n",
              "</div>\n",
              "\n",
              "    </div>\n",
              "  </div>\n"
            ],
            "application/vnd.google.colaboratory.intrinsic+json": {
              "type": "dataframe",
              "variable_name": "ca_census",
              "summary": "{\n  \"name\": \"ca_census\",\n  \"rows\": 8057,\n  \"fields\": [\n    {\n      \"column\": \"NAME\",\n      \"properties\": {\n        \"dtype\": \"string\",\n        \"num_unique_values\": 8057,\n        \"samples\": [\n          \"Census Tract 109.02, San Luis Obispo County, California\",\n          \"Census Tract 4803.03, Los Angeles County, California\",\n          \"Census Tract 14.03, Orange County, California\"\n        ],\n        \"semantic_type\": \"\",\n        \"description\": \"\"\n      }\n    },\n    {\n      \"column\": \"C17002_001E\",\n      \"properties\": {\n        \"dtype\": \"number\",\n        \"std\": 2158.004795343929,\n        \"min\": 0.0,\n        \"max\": 29186.0,\n        \"num_unique_values\": 4693,\n        \"samples\": [\n          5610.0,\n          6818.0,\n          3355.0\n        ],\n        \"semantic_type\": \"\",\n        \"description\": \"\"\n      }\n    },\n    {\n      \"column\": \"C17002_002E\",\n      \"properties\": {\n        \"dtype\": \"number\",\n        \"std\": 298.7074152675672,\n        \"min\": 0.0,\n        \"max\": 4326.0,\n        \"num_unique_values\": 1130,\n        \"samples\": [\n          1003.0,\n          422.0,\n          708.0\n        ],\n        \"semantic_type\": \"\",\n        \"description\": \"\"\n      }\n    },\n    {\n      \"column\": \"C17002_003E\",\n      \"properties\": {\n        \"dtype\": \"number\",\n        \"std\": 380.3288921156751,\n        \"min\": 0.0,\n        \"max\": 3732.0,\n        \"num_unique_values\": 1406,\n        \"samples\": [\n          875.0,\n          1126.0,\n          277.0\n        ],\n        \"semantic_type\": \"\",\n        \"description\": \"\"\n      }\n    },\n    {\n      \"column\": \"B01003_001E\",\n      \"properties\": {\n        \"dtype\": \"number\",\n        \"std\": 2193.7168609895202,\n        \"min\": 0.0,\n        \"max\": 40402.0,\n        \"num_unique_values\": 4752,\n        \"samples\": [\n          3317.0,\n          1860.0,\n          4571.0\n        ],\n        \"semantic_type\": \"\",\n        \"description\": \"\"\n      }\n    },\n    {\n      \"column\": \"state\",\n      \"properties\": {\n        \"dtype\": \"category\",\n        \"num_unique_values\": 1,\n        \"samples\": [\n          \"06\"\n        ],\n        \"semantic_type\": \"\",\n        \"description\": \"\"\n      }\n    },\n    {\n      \"column\": \"county\",\n      \"properties\": {\n        \"dtype\": \"category\",\n        \"num_unique_values\": 58,\n        \"samples\": [\n          \"037\"\n        ],\n        \"semantic_type\": \"\",\n        \"description\": \"\"\n      }\n    },\n    {\n      \"column\": \"tract\",\n      \"properties\": {\n        \"dtype\": \"string\",\n        \"num_unique_values\": 6522,\n        \"samples\": [\n          \"002504\"\n        ],\n        \"semantic_type\": \"\",\n        \"description\": \"\"\n      }\n    }\n  ]\n}"
            }
          },
          "metadata": {},
          "execution_count": 35
        }
      ]
    },
    {
      "cell_type": "markdown",
      "source": [
        "# Maps\n"
      ],
      "metadata": {
        "id": "FDkPoMPnBper"
      }
    },
    {
      "cell_type": "markdown",
      "source": [
        "## Map 1"
      ],
      "metadata": {
        "id": "d9LrpgUrBsba"
      }
    },
    {
      "cell_type": "code",
      "source": [],
      "metadata": {
        "id": "BYBjFyN-KYf-"
      },
      "execution_count": null,
      "outputs": []
    },
    {
      "cell_type": "code",
      "source": [
        "fig1 , ax1 = plt.subplots(figsize=(10,10))\n",
        "\n",
        "\n",
        "plt.show()"
      ],
      "metadata": {
        "colab": {
          "base_uri": "https://localhost:8080/",
          "height": 836
        },
        "id": "KNSLk761BrQq",
        "outputId": "1104384d-3158-4f1d-8a15-c7e839e7478d"
      },
      "execution_count": null,
      "outputs": [
        {
          "output_type": "display_data",
          "data": {
            "text/plain": [
              "<Figure size 1000x1000 with 1 Axes>"
            ],
            "image/png": "[encoded data removed]"
          },
          "metadata": {}
        }
      ]
    }
  ]
}